{
 "cells": [
  {
   "cell_type": "markdown",
   "metadata": {},
   "source": [
    "# 1. Backgound and problem description\n",
    "**Background**: Opening a cosmetics-related businees in Houston, Texas is a huge challenge for to many reasons. One of the reasons is that Houston is one of the biggest cities in the nation with the metropolitan's population of more than 6 million, spanning on a huge area of 627 square miles. The researching process that includes finding location, exploring the locals needs, and mitigating risks from nearby competitions, is very time-consuming for any business openers.\n",
    "\n",
    "**Project Goal**: To use data anaylysis techniques and machine learning algorithim to analyzing point-of-interest (POI) data of areas in the city of Houston, Texas to help business openers locate the best areas to open a cosmetics related business. \n",
    "The scope of the businesses includes: Spa of all kinds, nail salon, cosmetics shop, health or beauty service, and hair salon.\n",
    "\n"
   ]
  },
  {
   "cell_type": "markdown",
   "metadata": {},
   "source": [
    "# 2. Data description and methodology\n",
    "\n",
    "The areas of Houston will be based on the postal zip codes.\n",
    "Data of Houston's zip code will be scraped from the Houston Area Connect website.\n",
    "\n",
    "Web site Link: [Houston Zip Codes and Coordinates data](http://houston.areaconnect.com/zip2.htm?city=Houston&qs=TX&searchtype=bycity)\n",
    "\n",
    "Screenshot of website:\n",
    "![alt text][screenshot]\n",
    "[screenshot]:https://raw.githubusercontent.com/quannhoang/Coursera_IBM_DataScience_Capstone/master/HoustonZipCode.JPG\n",
    "\n",
    "The features of data that will be used for this project are Zip Codes, Longitude, and Latitude.\n"
    "The analysis process will include the steps below:\n",
    "1. Collect Houston's areas data including zip code and coordinates.\n",
    "2. Retrieve each zip code's POI data from Four Square.\n",
    "3. Transform and pre-process POI data.\n",
    "4. Filter pre-processed POI data fit the scope of the project.\n",
    "5. Apply machine learning algorithm to explore data's insight.\n",
    "6. Give conclusion based on the result of the machine learning algorithm.\n",
    "7. Visualization.\n"
   ]
  },
  {
   "cell_type": "code",
   "execution_count": null,
   "metadata": {},
   "outputs": [],
   "source": []
  }
 ],
 "metadata": {
  "kernelspec": {
   "display_name": "Python 3",
   "language": "python",
   "name": "python3"
  },
  "language_info": {
   "codemirror_mode": {
    "name": "ipython",
    "version": 3
   },
   "file_extension": ".py",
   "mimetype": "text/x-python",
   "name": "python",
   "nbconvert_exporter": "python",
   "pygments_lexer": "ipython3",
   "version": "3.6.4"
  }
 },
 "nbformat": 4,
 "nbformat_minor": 2
}
